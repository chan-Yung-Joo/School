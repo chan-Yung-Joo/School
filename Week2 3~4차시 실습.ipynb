{
 "cells": [
  {
   "cell_type": "markdown",
   "id": "1d0c7ede",
   "metadata": {},
   "source": [
    "# 1. if 조건문"
   ]
  },
  {
   "cell_type": "markdown",
   "id": "cb8aecd2",
   "metadata": {},
   "source": [
    "### 예제1)"
   ]
  },
  {
   "cell_type": "code",
   "execution_count": 1,
   "id": "34b62d89",
   "metadata": {},
   "outputs": [
    {
     "name": "stdout",
     "output_type": "stream",
     "text": [
      "청소년 할인\n",
      "입장을 환영합니다.\n"
     ]
    }
   ],
   "source": [
    "age = 19\n",
    "\n",
    "if age < 20:\n",
    "    print(\"청소년 할인\")\n",
    "\n",
    "print(\"입장을 환영합니다.\")"
   ]
  },
  {
   "cell_type": "code",
   "execution_count": 2,
   "id": "b383ae29",
   "metadata": {},
   "outputs": [
    {
     "name": "stdout",
     "output_type": "stream",
     "text": [
      "입장을 환영합니다.\n"
     ]
    }
   ],
   "source": [
    "age = 40\n",
    "\n",
    "if age < 20:\n",
    "    print(\"청소년 할인\")\n",
    "\n",
    "print(\"입장을 환영합니다.\")"
   ]
  },
  {
   "cell_type": "markdown",
   "id": "6b218bd5",
   "metadata": {},
   "source": [
    "### 예제2)"
   ]
  },
  {
   "cell_type": "code",
   "execution_count": 3,
   "id": "55de3a9e",
   "metadata": {},
   "outputs": [
    {
     "name": "stdout",
     "output_type": "stream",
     "text": [
      "두 수 중 하나 이상이 짝수!\n"
     ]
    }
   ],
   "source": [
    "a = 6\n",
    "b = 5\n",
    "\n",
    "if (a%2 == 0) and (b%2 == 0):   # a와 b 둘다 짝수인가?\n",
    "    print(\"두 수가 모두 짝수!\")\n",
    "    \n",
    "if (a%2 == 0) or (b%2 == 0):    # a와 b 중 하나만 짝수인가?\n",
    "    print(\"두 수 중 하나 이상이 짝수!\")\n"
   ]
  },
  {
   "cell_type": "markdown",
   "id": "505d4ec4",
   "metadata": {},
   "source": [
    "### 예제3) 시험 성적 판별"
   ]
  },
  {
   "cell_type": "code",
   "execution_count": 7,
   "id": "c08ade28",
   "metadata": {},
   "outputs": [
    {
     "name": "stdout",
     "output_type": "stream",
     "text": [
      "점수를 입력하세요 : 75\n",
      "당신의 등급은 : C\n"
     ]
    }
   ],
   "source": [
    "score = int(input(\"점수를 입력하세요 : \")) \n",
    "# input 함수는 입력을 문자열로 받기 때문에 형변환!\n",
    "\n",
    "if score >= 90:\n",
    "    grade = 'A'\n",
    "\n",
    "if score < 90 and score >= 80:\n",
    "    grade = 'B'\n",
    "\n",
    "if score < 80 and score >= 70:\n",
    "    grade = 'C'\n",
    "    \n",
    "if score < 70 and score >= 60:\n",
    "    grade = 'D'\n",
    "\n",
    "if score < 60:\n",
    "    grade = 'F'\n",
    "\n",
    "print(\"당신의 등급은 : %s\"%(grade))"
   ]
  },
  {
   "cell_type": "markdown",
   "id": "09e562a3",
   "metadata": {},
   "source": [
    "### 예제4) 예제3의 개선 Version"
   ]
  },
  {
   "cell_type": "code",
   "execution_count": 9,
   "id": "a922a99c",
   "metadata": {},
   "outputs": [
    {
     "name": "stdout",
     "output_type": "stream",
     "text": [
      "점수를 입력하세요 : 77\n",
      "당신의 등급은 : C\n"
     ]
    }
   ],
   "source": [
    "score = int(input(\"점수를 입력하세요 : \"))\n",
    "\n",
    "if score >= 90:\n",
    "    grade = 'A'\n",
    "\n",
    "else: # 위의 조건을 만족하지 않을 때!\n",
    "    \n",
    "    if score >= 80:\n",
    "        grade = 'B'\n",
    "    \n",
    "    else:\n",
    "    \n",
    "        if score >= 70:\n",
    "            grade = 'C'\n",
    "    \n",
    "        else:\n",
    "        \n",
    "            if score >= 60:\n",
    "                grade = 'D'\n",
    "        \n",
    "            else:\n",
    "                grade = 'F'\n",
    "\n",
    "print(\"당신의 등급은 : %s\"%(grade))"
   ]
  },
  {
   "cell_type": "markdown",
   "id": "f85bd275",
   "metadata": {},
   "source": [
    "### 예제5) 예제4의 더 개선된 Version ---> 가독성이 더 좋은 것!"
   ]
  },
  {
   "cell_type": "code",
   "execution_count": 10,
   "id": "b142d380",
   "metadata": {},
   "outputs": [
    {
     "name": "stdout",
     "output_type": "stream",
     "text": [
      "점수를 입력하세요 : 76\n",
      "당신의 등급은 : C\n"
     ]
    }
   ],
   "source": [
    "score = int(input(\"점수를 입력하세요 : \"))\n",
    "\n",
    "if score >= 90:\n",
    "    grade = 'A'\n",
    "\n",
    "elif score >= 80:\n",
    "    grade = 'B'\n",
    "\n",
    "elif score >= 70:\n",
    "    grade = 'C'\n",
    "\n",
    "elif score >= 60:\n",
    "    grade = 'D'\n",
    "\n",
    "else:\n",
    "    grade = 'F'\n",
    "\n",
    "print(\"당신의 등급은 : %s\"%(grade))"
   ]
  },
  {
   "cell_type": "markdown",
   "id": "e51a7606",
   "metadata": {},
   "source": [
    "# 2. for 반복문"
   ]
  },
  {
   "cell_type": "markdown",
   "id": "fa1ed96c",
   "metadata": {},
   "source": [
    "### 예제1)"
   ]
  },
  {
   "cell_type": "code",
   "execution_count": 11,
   "id": "f4d3f80d",
   "metadata": {},
   "outputs": [
    {
     "name": "stdout",
     "output_type": "stream",
     "text": [
      "갤럭시 노트 40 출시!\n",
      "갤럭시 노트 40 출시!\n",
      "갤럭시 노트 40 출시!\n",
      "갤럭시 노트 40 출시!\n",
      "갤럭시 노트 40 출시!\n"
     ]
    }
   ],
   "source": [
    "for i in range(5):\n",
    "    print(\"갤럭시 노트 40 출시!\")"
   ]
  },
  {
   "cell_type": "markdown",
   "id": "74f9f253",
   "metadata": {},
   "source": [
    "#### range(a, b, c) ----> a: 시작값, b: 종료 값(반환X) , c: 간격 "
   ]
  },
  {
   "cell_type": "markdown",
   "id": "6c05d431",
   "metadata": {},
   "source": [
    "### 예제2)"
   ]
  },
  {
   "cell_type": "code",
   "execution_count": 12,
   "id": "8e14850d",
   "metadata": {},
   "outputs": [
    {
     "name": "stdout",
     "output_type": "stream",
     "text": [
      "갤럭시 노트 40출시!!\n",
      "갤럭시 노트 41출시!!\n",
      "갤럭시 노트 42출시!!\n",
      "갤럭시 노트 43출시!!\n",
      "갤럭시 노트 44출시!!\n",
      "갤럭시 노트 45출시!!\n",
      "갤럭시 노트 46출시!!\n",
      "갤럭시 노트 47출시!!\n",
      "갤럭시 노트 48출시!!\n",
      "갤럭시 노트 49출시!!\n",
      "갤럭시 노트 50출시!!\n"
     ]
    }
   ],
   "source": [
    "for i in range(40, 51, 1):\n",
    "    print(\"갤럭시 노트 {:d}출시!!\".format(i))"
   ]
  },
  {
   "cell_type": "markdown",
   "id": "b0e7bd9a",
   "metadata": {},
   "source": [
    "### 예제3) 음수 값 간격은 어떻게?"
   ]
  },
  {
   "cell_type": "code",
   "execution_count": 13,
   "id": "b7f2d720",
   "metadata": {},
   "outputs": [
    {
     "name": "stdout",
     "output_type": "stream",
     "text": [
      "갤럭시 노트 -2출시!!\n",
      "갤럭시 노트 -3출시!!\n",
      "갤럭시 노트 -4출시!!\n",
      "갤럭시 노트 -5출시!!\n",
      "갤럭시 노트 -6출시!!\n",
      "갤럭시 노트 -7출시!!\n",
      "갤럭시 노트 -8출시!!\n",
      "갤럭시 노트 -9출시!!\n"
     ]
    }
   ],
   "source": [
    "for i in range(-2, -10, -1):\n",
    "    print(\"갤럭시 노트 {:d}출시!!\".format(i))"
   ]
  },
  {
   "cell_type": "markdown",
   "id": "1641e3ef",
   "metadata": {},
   "source": [
    "### 실습하기!"
   ]
  },
  {
   "cell_type": "markdown",
   "id": "98b63db9",
   "metadata": {},
   "source": [
    "### 팩토리얼(Fatorial) 계산하기 ------> 강의자료 Page 38"
   ]
  },
  {
   "cell_type": "code",
   "execution_count": null,
   "id": "f8c0bd2b",
   "metadata": {},
   "outputs": [],
   "source": []
  },
  {
   "cell_type": "markdown",
   "id": "78da4ba2",
   "metadata": {},
   "source": [
    "### 예제4) 중첩 For 문 --- 구구단"
   ]
  },
  {
   "cell_type": "code",
   "execution_count": 19,
   "id": "46de84e8",
   "metadata": {},
   "outputs": [
    {
     "name": "stdout",
     "output_type": "stream",
     "text": [
      "2 * 1 = 2\n",
      "2 * 2 = 4\n",
      "2 * 3 = 6\n",
      "2 * 4 = 8\n",
      "2 * 5 = 10\n",
      "2 * 6 = 12\n",
      "2 * 7 = 14\n",
      "2 * 8 = 16\n",
      "2 * 9 = 18\n",
      "\n",
      "3 * 1 = 3\n",
      "3 * 2 = 6\n",
      "3 * 3 = 9\n",
      "3 * 4 = 12\n",
      "3 * 5 = 15\n",
      "3 * 6 = 18\n",
      "3 * 7 = 21\n",
      "3 * 8 = 24\n",
      "3 * 9 = 27\n",
      "\n",
      "4 * 1 = 4\n",
      "4 * 2 = 8\n",
      "4 * 3 = 12\n",
      "4 * 4 = 16\n",
      "4 * 5 = 20\n",
      "4 * 6 = 24\n",
      "4 * 7 = 28\n",
      "4 * 8 = 32\n",
      "4 * 9 = 36\n",
      "\n",
      "5 * 1 = 5\n",
      "5 * 2 = 10\n",
      "5 * 3 = 15\n",
      "5 * 4 = 20\n",
      "5 * 5 = 25\n",
      "5 * 6 = 30\n",
      "5 * 7 = 35\n",
      "5 * 8 = 40\n",
      "5 * 9 = 45\n",
      "\n",
      "6 * 1 = 6\n",
      "6 * 2 = 12\n",
      "6 * 3 = 18\n",
      "6 * 4 = 24\n",
      "6 * 5 = 30\n",
      "6 * 6 = 36\n",
      "6 * 7 = 42\n",
      "6 * 8 = 48\n",
      "6 * 9 = 54\n",
      "\n",
      "7 * 1 = 7\n",
      "7 * 2 = 14\n",
      "7 * 3 = 21\n",
      "7 * 4 = 28\n",
      "7 * 5 = 35\n",
      "7 * 6 = 42\n",
      "7 * 7 = 49\n",
      "7 * 8 = 56\n",
      "7 * 9 = 63\n",
      "\n",
      "8 * 1 = 8\n",
      "8 * 2 = 16\n",
      "8 * 3 = 24\n",
      "8 * 4 = 32\n",
      "8 * 5 = 40\n",
      "8 * 6 = 48\n",
      "8 * 7 = 56\n",
      "8 * 8 = 64\n",
      "8 * 9 = 72\n",
      "\n",
      "9 * 1 = 9\n",
      "9 * 2 = 18\n",
      "9 * 3 = 27\n",
      "9 * 4 = 36\n",
      "9 * 5 = 45\n",
      "9 * 6 = 54\n",
      "9 * 7 = 63\n",
      "9 * 8 = 72\n",
      "9 * 9 = 81\n",
      "\n"
     ]
    }
   ],
   "source": [
    "for i in range(2, 10):   # i의 범위는 2부터 10전까지(9까지) 1간격으로!\n",
    "    for j in range(1, 10): # j의 범위는 1부터 10 전까지(9까지) 1간격으로!\n",
    "        \n",
    "        print(\"{:d} * {:d} = {:d}\".format(i, j, i*j))\n",
    "        \n",
    "    print() # 단이 바뀔 때, 한 칸 띄어 주기 위함! (가독성 높이기)"
   ]
  },
  {
   "cell_type": "markdown",
   "id": "d87ea6d6",
   "metadata": {},
   "source": [
    "## for문과 리스트"
   ]
  },
  {
   "cell_type": "markdown",
   "id": "abc60d26",
   "metadata": {},
   "source": [
    "### 예제5)"
   ]
  },
  {
   "cell_type": "code",
   "execution_count": 20,
   "id": "ad0977c8",
   "metadata": {},
   "outputs": [
    {
     "name": "stdout",
     "output_type": "stream",
     "text": [
      "0\n",
      "3\n",
      "10\n",
      "11\n"
     ]
    }
   ],
   "source": [
    "for i in [0, 3, 10, 11]:\n",
    "    print(i)"
   ]
  },
  {
   "cell_type": "code",
   "execution_count": 21,
   "id": "54a5eb13",
   "metadata": {},
   "outputs": [
    {
     "name": "stdout",
     "output_type": "stream",
     "text": [
      "0\n",
      "3\n",
      "10\n",
      "a\n"
     ]
    }
   ],
   "source": [
    "for i in [0, 3, 10, 'a']:\n",
    "    print(i)"
   ]
  },
  {
   "cell_type": "markdown",
   "id": "d48989c1",
   "metadata": {},
   "source": [
    "### 예제6-1) 정수형 리스트의 객체 순회"
   ]
  },
  {
   "cell_type": "code",
   "execution_count": 22,
   "id": "9c6033ed",
   "metadata": {},
   "outputs": [
    {
     "name": "stdout",
     "output_type": "stream",
     "text": [
      "11 22 33 44 55 66 "
     ]
    }
   ],
   "source": [
    "numbers = [11, 22, 33, 44, 55, 66]\n",
    "\n",
    "for n in numbers:\n",
    "    print(n, end = ' ')"
   ]
  },
  {
   "cell_type": "markdown",
   "id": "d68d6ae2",
   "metadata": {},
   "source": [
    "### 예제 6-2) 실수형 리스트의 객체 순회"
   ]
  },
  {
   "cell_type": "code",
   "execution_count": 24,
   "id": "1e47f70a",
   "metadata": {},
   "outputs": [
    {
     "name": "stdout",
     "output_type": "stream",
     "text": [
      "1.1/2.5/3.7/5.6/9.2/11.3/6.8/"
     ]
    }
   ],
   "source": [
    "f_numbers = [1.1, 2.5, 3.7, 5.6, 9.2, 11.3, 6.8]\n",
    "\n",
    "for f in f_numbers:\n",
    "    print(f, end = '/')"
   ]
  },
  {
   "cell_type": "markdown",
   "id": "f9765792",
   "metadata": {},
   "source": [
    "### 예제 6-3) 문자열 리스트의 객체 순회"
   ]
  },
  {
   "cell_type": "code",
   "execution_count": 25,
   "id": "7c98d6f2",
   "metadata": {},
   "outputs": [
    {
     "name": "stdout",
     "output_type": "stream",
     "text": [
      "수박 참외 체리 포도 "
     ]
    }
   ],
   "source": [
    "summer_fruits = ['수박', '참외', '체리', '포도']\n",
    "\n",
    "for fruit in summer_fruits:\n",
    "    print(fruit, end = ' ')"
   ]
  },
  {
   "cell_type": "code",
   "execution_count": null,
   "id": "5d14427f",
   "metadata": {},
   "outputs": [],
   "source": []
  }
 ],
 "metadata": {
  "kernelspec": {
   "display_name": "Python 3 (ipykernel)",
   "language": "python",
   "name": "python3"
  },
  "language_info": {
   "codemirror_mode": {
    "name": "ipython",
    "version": 3
   },
   "file_extension": ".py",
   "mimetype": "text/x-python",
   "name": "python",
   "nbconvert_exporter": "python",
   "pygments_lexer": "ipython3",
   "version": "3.8.10"
  }
 },
 "nbformat": 4,
 "nbformat_minor": 5
}
