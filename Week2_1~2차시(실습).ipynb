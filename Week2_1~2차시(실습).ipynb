{
 "cells": [
  {
   "cell_type": "markdown",
   "id": "a59f9212",
   "metadata": {},
   "source": [
    "# 1. 변수의 개념"
   ]
  },
  {
   "cell_type": "code",
   "execution_count": 227,
   "id": "3d5e773c",
   "metadata": {},
   "outputs": [
    {
     "name": "stdout",
     "output_type": "stream",
     "text": [
      "2020\n"
     ]
    }
   ],
   "source": [
    "# 변수 실습\n",
    "\n",
    "# 숫자\n",
    "a = 2020\n",
    "\n",
    "print(a)"
   ]
  },
  {
   "cell_type": "code",
   "execution_count": 228,
   "id": "2d1ff3a6",
   "metadata": {},
   "outputs": [],
   "source": [
    "# 텍스트\n",
    "b = \"삼성전자\""
   ]
  },
  {
   "cell_type": "code",
   "execution_count": 229,
   "id": "fda1ace8",
   "metadata": {},
   "outputs": [
    {
     "name": "stdout",
     "output_type": "stream",
     "text": [
      "삼성전자\n"
     ]
    }
   ],
   "source": [
    "print(b)"
   ]
  },
  {
   "cell_type": "code",
   "execution_count": 230,
   "id": "bfeae15b",
   "metadata": {},
   "outputs": [
    {
     "data": {
      "text/plain": [
       "str"
      ]
     },
     "execution_count": 230,
     "metadata": {},
     "output_type": "execute_result"
    }
   ],
   "source": [
    "type(b)"
   ]
  },
  {
   "cell_type": "code",
   "execution_count": 231,
   "id": "5ea7a09b",
   "metadata": {},
   "outputs": [],
   "source": [
    "# XML 형식 텍스트\n",
    "c = \"<note>\\\n",
    "<to> Tove </to>\\\n",
    "<from> Jani </from>\\\n",
    "<heading> Reminder </heading>\\\n",
    "<body> Don't forget me this weekend!</body>\\\n",
    "</note>\""
   ]
  },
  {
   "cell_type": "code",
   "execution_count": 232,
   "id": "0893393c",
   "metadata": {},
   "outputs": [
    {
     "data": {
      "text/plain": [
       "str"
      ]
     },
     "execution_count": 232,
     "metadata": {},
     "output_type": "execute_result"
    }
   ],
   "source": [
    "type(c)"
   ]
  },
  {
   "cell_type": "code",
   "execution_count": 233,
   "id": "979956d2",
   "metadata": {},
   "outputs": [],
   "source": [
    "import urllib\n",
    "from PIL import Image"
   ]
  },
  {
   "cell_type": "code",
   "execution_count": 234,
   "id": "e7208bd5",
   "metadata": {},
   "outputs": [
    {
     "data": {
      "text/plain": [
       "('sample.png', <http.client.HTTPMessage at 0x7fec43b8e880>)"
      ]
     },
     "execution_count": 234,
     "metadata": {},
     "output_type": "execute_result"
    }
   ],
   "source": [
    "urllib.request.urlretrieve(\"https://upload3.inven.co.kr/upload/2020/10/03/bbs/i13516850970.png\",\"sample.png\")"
   ]
  },
  {
   "cell_type": "code",
   "execution_count": 235,
   "id": "28d7e2da",
   "metadata": {},
   "outputs": [],
   "source": [
    "img = Image.open(\"sample.png\") # from ~ import 구문에 의해 PIL을 사용 불가\n",
    "d = img"
   ]
  },
  {
   "cell_type": "code",
   "execution_count": 236,
   "id": "37bbb2d9",
   "metadata": {},
   "outputs": [],
   "source": [
    "import PIL"
   ]
  },
  {
   "cell_type": "code",
   "execution_count": 237,
   "id": "b39a195a",
   "metadata": {},
   "outputs": [],
   "source": [
    "img = PIL.Image.open(\"sample.png\") # import 구문에 의해 PIL을 사용 가능\n",
    "d = img"
   ]
  },
  {
   "cell_type": "code",
   "execution_count": 238,
   "id": "f0f4de08",
   "metadata": {},
   "outputs": [
    {
     "data": {
      "text/plain": [
       "PIL.JpegImagePlugin.JpegImageFile"
      ]
     },
     "execution_count": 238,
     "metadata": {},
     "output_type": "execute_result"
    }
   ],
   "source": [
    "type(d)"
   ]
  },
  {
   "cell_type": "code",
   "execution_count": 239,
   "id": "91b962c9",
   "metadata": {},
   "outputs": [],
   "source": [
    "d.show()"
   ]
  },
  {
   "cell_type": "markdown",
   "id": "0be35a76",
   "metadata": {},
   "source": [
    "## 예약어 확인하기"
   ]
  },
  {
   "cell_type": "code",
   "execution_count": 240,
   "id": "aa3d8045",
   "metadata": {},
   "outputs": [],
   "source": [
    "import keyword"
   ]
  },
  {
   "cell_type": "code",
   "execution_count": 241,
   "id": "24046b88",
   "metadata": {},
   "outputs": [
    {
     "data": {
      "text/plain": [
       "['False',\n",
       " 'None',\n",
       " 'True',\n",
       " 'and',\n",
       " 'as',\n",
       " 'assert',\n",
       " 'async',\n",
       " 'await',\n",
       " 'break',\n",
       " 'class',\n",
       " 'continue',\n",
       " 'def',\n",
       " 'del',\n",
       " 'elif',\n",
       " 'else',\n",
       " 'except',\n",
       " 'finally',\n",
       " 'for',\n",
       " 'from',\n",
       " 'global',\n",
       " 'if',\n",
       " 'import',\n",
       " 'in',\n",
       " 'is',\n",
       " 'lambda',\n",
       " 'nonlocal',\n",
       " 'not',\n",
       " 'or',\n",
       " 'pass',\n",
       " 'raise',\n",
       " 'return',\n",
       " 'try',\n",
       " 'while',\n",
       " 'with',\n",
       " 'yield']"
      ]
     },
     "execution_count": 241,
     "metadata": {},
     "output_type": "execute_result"
    }
   ],
   "source": [
    "keyword.kwlist"
   ]
  },
  {
   "cell_type": "markdown",
   "id": "d13f5fae",
   "metadata": {},
   "source": [
    "## 변수의 연산"
   ]
  },
  {
   "cell_type": "code",
   "execution_count": 242,
   "id": "19416be8",
   "metadata": {},
   "outputs": [],
   "source": [
    "a = 1"
   ]
  },
  {
   "cell_type": "code",
   "execution_count": 243,
   "id": "8a26ad3d",
   "metadata": {},
   "outputs": [],
   "source": [
    "b = 2"
   ]
  },
  {
   "cell_type": "code",
   "execution_count": 244,
   "id": "09c2cb5b",
   "metadata": {},
   "outputs": [
    {
     "data": {
      "text/plain": [
       "3"
      ]
     },
     "execution_count": 244,
     "metadata": {},
     "output_type": "execute_result"
    }
   ],
   "source": [
    "a + b # 사칙연산이 가능하다!"
   ]
  },
  {
   "cell_type": "markdown",
   "id": "c6f77bc5",
   "metadata": {},
   "source": [
    "### 변수는 개인의 고유 아이디를 갖음"
   ]
  },
  {
   "cell_type": "code",
   "execution_count": 245,
   "id": "fe069a2d",
   "metadata": {},
   "outputs": [
    {
     "data": {
      "text/plain": [
       "4534200672"
      ]
     },
     "execution_count": 245,
     "metadata": {},
     "output_type": "execute_result"
    }
   ],
   "source": [
    "id(a)"
   ]
  },
  {
   "cell_type": "code",
   "execution_count": 246,
   "id": "4448e81f",
   "metadata": {},
   "outputs": [
    {
     "data": {
      "text/plain": [
       "4534200704"
      ]
     },
     "execution_count": 246,
     "metadata": {},
     "output_type": "execute_result"
    }
   ],
   "source": [
    "id(b)"
   ]
  },
  {
   "cell_type": "code",
   "execution_count": 247,
   "id": "a6bc417c",
   "metadata": {},
   "outputs": [
    {
     "data": {
      "text/plain": [
       "140652724657024"
      ]
     },
     "execution_count": 247,
     "metadata": {},
     "output_type": "execute_result"
    }
   ],
   "source": [
    "id(d) # 위에서 이미지 변수의 아이디 확인"
   ]
  },
  {
   "cell_type": "markdown",
   "id": "c2c34e94",
   "metadata": {},
   "source": [
    "# 2. 수 다루기 (정수, 실수, 복소수)"
   ]
  },
  {
   "cell_type": "code",
   "execution_count": 248,
   "id": "cd64b5d7",
   "metadata": {},
   "outputs": [],
   "source": [
    "a = 23/7"
   ]
  },
  {
   "cell_type": "code",
   "execution_count": 249,
   "id": "8bd88eaf",
   "metadata": {},
   "outputs": [
    {
     "data": {
      "text/plain": [
       "float"
      ]
     },
     "execution_count": 249,
     "metadata": {},
     "output_type": "execute_result"
    }
   ],
   "source": [
    "type(a)"
   ]
  },
  {
   "cell_type": "code",
   "execution_count": 250,
   "id": "dde39fe1",
   "metadata": {},
   "outputs": [
    {
     "name": "stdout",
     "output_type": "stream",
     "text": [
      "3.2857142857142856\n"
     ]
    }
   ],
   "source": [
    "print(a)  # 소수점 15자리까지만 표현됨"
   ]
  },
  {
   "cell_type": "code",
   "execution_count": 251,
   "id": "562c60f5",
   "metadata": {},
   "outputs": [],
   "source": [
    "b = 2 + 3j  # a+bj -> a:실수부 , b: 허수부"
   ]
  },
  {
   "cell_type": "code",
   "execution_count": 252,
   "id": "4367f046",
   "metadata": {},
   "outputs": [
    {
     "data": {
      "text/plain": [
       "complex"
      ]
     },
     "execution_count": 252,
     "metadata": {},
     "output_type": "execute_result"
    }
   ],
   "source": [
    "type(b)"
   ]
  },
  {
   "cell_type": "code",
   "execution_count": 253,
   "id": "40ba5784",
   "metadata": {},
   "outputs": [
    {
     "data": {
      "text/plain": [
       "2.0"
      ]
     },
     "execution_count": 253,
     "metadata": {},
     "output_type": "execute_result"
    }
   ],
   "source": [
    "b.real # 실수부"
   ]
  },
  {
   "cell_type": "code",
   "execution_count": 254,
   "id": "11a5fa38",
   "metadata": {},
   "outputs": [
    {
     "data": {
      "text/plain": [
       "3.0"
      ]
     },
     "execution_count": 254,
     "metadata": {},
     "output_type": "execute_result"
    }
   ],
   "source": [
    "b.imag # 허수부"
   ]
  },
  {
   "cell_type": "markdown",
   "id": "b104f115",
   "metadata": {},
   "source": [
    "### 정수 연산"
   ]
  },
  {
   "cell_type": "code",
   "execution_count": 255,
   "id": "371d0ac1",
   "metadata": {},
   "outputs": [],
   "source": [
    "a = 3\n",
    "b = 2.5"
   ]
  },
  {
   "cell_type": "code",
   "execution_count": 256,
   "id": "4269aabc",
   "metadata": {},
   "outputs": [
    {
     "data": {
      "text/plain": [
       "7.5"
      ]
     },
     "execution_count": 256,
     "metadata": {},
     "output_type": "execute_result"
    }
   ],
   "source": [
    "a*b"
   ]
  },
  {
   "cell_type": "code",
   "execution_count": 257,
   "id": "80c53361",
   "metadata": {},
   "outputs": [
    {
     "data": {
      "text/plain": [
       "0.5"
      ]
     },
     "execution_count": 257,
     "metadata": {},
     "output_type": "execute_result"
    }
   ],
   "source": [
    "a-b"
   ]
  },
  {
   "cell_type": "code",
   "execution_count": 258,
   "id": "c1e6748f",
   "metadata": {},
   "outputs": [
    {
     "data": {
      "text/plain": [
       "5.5"
      ]
     },
     "execution_count": 258,
     "metadata": {},
     "output_type": "execute_result"
    }
   ],
   "source": [
    "a+b"
   ]
  },
  {
   "cell_type": "code",
   "execution_count": 259,
   "id": "556a219e",
   "metadata": {},
   "outputs": [
    {
     "data": {
      "text/plain": [
       "1.2"
      ]
     },
     "execution_count": 259,
     "metadata": {},
     "output_type": "execute_result"
    }
   ],
   "source": [
    "# 나눗셈 연산\n",
    "a/b"
   ]
  },
  {
   "cell_type": "code",
   "execution_count": 260,
   "id": "af667b65",
   "metadata": {},
   "outputs": [
    {
     "data": {
      "text/plain": [
       "1.0"
      ]
     },
     "execution_count": 260,
     "metadata": {},
     "output_type": "execute_result"
    }
   ],
   "source": [
    "# 몫 연산\n",
    "a//b"
   ]
  },
  {
   "cell_type": "code",
   "execution_count": 261,
   "id": "7218cd2e",
   "metadata": {},
   "outputs": [
    {
     "data": {
      "text/plain": [
       "0.5"
      ]
     },
     "execution_count": 261,
     "metadata": {},
     "output_type": "execute_result"
    }
   ],
   "source": [
    "# 나머지 연산\n",
    "a%b"
   ]
  },
  {
   "cell_type": "markdown",
   "id": "c08420e7",
   "metadata": {},
   "source": [
    "# 내장 수학 연산자 및 Math Module"
   ]
  },
  {
   "cell_type": "code",
   "execution_count": 262,
   "id": "5ef1a9c6",
   "metadata": {},
   "outputs": [
    {
     "data": {
      "text/plain": [
       "3"
      ]
     },
     "execution_count": 262,
     "metadata": {},
     "output_type": "execute_result"
    }
   ],
   "source": [
    "abs(-3) # 절댓값"
   ]
  },
  {
   "cell_type": "code",
   "execution_count": 263,
   "id": "d130542e",
   "metadata": {},
   "outputs": [
    {
     "data": {
      "text/plain": [
       "19"
      ]
     },
     "execution_count": 263,
     "metadata": {},
     "output_type": "execute_result"
    }
   ],
   "source": [
    "max(10,19,-1) # 최댓값"
   ]
  },
  {
   "cell_type": "code",
   "execution_count": 264,
   "id": "ad4feed8",
   "metadata": {},
   "outputs": [
    {
     "data": {
      "text/plain": [
       "-1"
      ]
     },
     "execution_count": 264,
     "metadata": {},
     "output_type": "execute_result"
    }
   ],
   "source": [
    "min(10,19,-1) # 최솟값"
   ]
  },
  {
   "cell_type": "code",
   "execution_count": 265,
   "id": "6c0bbaf7",
   "metadata": {},
   "outputs": [
    {
     "data": {
      "text/plain": [
       "16"
      ]
     },
     "execution_count": 265,
     "metadata": {},
     "output_type": "execute_result"
    }
   ],
   "source": [
    "pow(2,4) # 지수 계산"
   ]
  },
  {
   "cell_type": "code",
   "execution_count": 266,
   "id": "20d8da2b",
   "metadata": {},
   "outputs": [
    {
     "data": {
      "text/plain": [
       "22"
      ]
     },
     "execution_count": 266,
     "metadata": {},
     "output_type": "execute_result"
    }
   ],
   "source": [
    "round(22.5) # 반올림 보단 버림에 가까운 개념"
   ]
  },
  {
   "cell_type": "code",
   "execution_count": 267,
   "id": "0a769fcf",
   "metadata": {},
   "outputs": [
    {
     "data": {
      "text/plain": [
       "22.54"
      ]
     },
     "execution_count": 267,
     "metadata": {},
     "output_type": "execute_result"
    }
   ],
   "source": [
    "round(22.54, 2) # 소숫점 2번째까지 표현하겠다는 의미"
   ]
  },
  {
   "cell_type": "markdown",
   "id": "e8d0f244",
   "metadata": {},
   "source": [
    "## 실습(1)"
   ]
  },
  {
   "cell_type": "code",
   "execution_count": 268,
   "id": "a889adf6",
   "metadata": {},
   "outputs": [],
   "source": [
    "a = list(range(0,101)) # 0부터 101전까지 수를 생성 후, 리스트로 저장"
   ]
  },
  {
   "cell_type": "code",
   "execution_count": 269,
   "id": "0a8c1b2b",
   "metadata": {},
   "outputs": [
    {
     "name": "stdout",
     "output_type": "stream",
     "text": [
      "[0, 1, 2, 3, 4, 5, 6, 7, 8, 9, 10, 11, 12, 13, 14, 15, 16, 17, 18, 19, 20, 21, 22, 23, 24, 25, 26, 27, 28, 29, 30, 31, 32, 33, 34, 35, 36, 37, 38, 39, 40, 41, 42, 43, 44, 45, 46, 47, 48, 49, 50, 51, 52, 53, 54, 55, 56, 57, 58, 59, 60, 61, 62, 63, 64, 65, 66, 67, 68, 69, 70, 71, 72, 73, 74, 75, 76, 77, 78, 79, 80, 81, 82, 83, 84, 85, 86, 87, 88, 89, 90, 91, 92, 93, 94, 95, 96, 97, 98, 99, 100]\n"
     ]
    }
   ],
   "source": [
    "print(a)"
   ]
  },
  {
   "cell_type": "code",
   "execution_count": 270,
   "id": "6d3c7b1a",
   "metadata": {},
   "outputs": [
    {
     "data": {
      "text/plain": [
       "100"
      ]
     },
     "execution_count": 270,
     "metadata": {},
     "output_type": "execute_result"
    }
   ],
   "source": [
    "max(a)"
   ]
  },
  {
   "cell_type": "code",
   "execution_count": 271,
   "id": "adb79f48",
   "metadata": {},
   "outputs": [
    {
     "data": {
      "text/plain": [
       "0"
      ]
     },
     "execution_count": 271,
     "metadata": {},
     "output_type": "execute_result"
    }
   ],
   "source": [
    "min(a)"
   ]
  },
  {
   "cell_type": "markdown",
   "id": "db4b130d",
   "metadata": {},
   "source": [
    "## 실습(2)"
   ]
  },
  {
   "cell_type": "code",
   "execution_count": 272,
   "id": "6821896d",
   "metadata": {},
   "outputs": [],
   "source": [
    "a = 3/7 # a를 소숫점 2자리, 3자리까지 프린트 해봐라!"
   ]
  },
  {
   "cell_type": "code",
   "execution_count": 273,
   "id": "5e2c67af",
   "metadata": {},
   "outputs": [
    {
     "data": {
      "text/plain": [
       "0.43"
      ]
     },
     "execution_count": 273,
     "metadata": {},
     "output_type": "execute_result"
    }
   ],
   "source": [
    "round(a,2) # 소숫점 2자리까지"
   ]
  },
  {
   "cell_type": "code",
   "execution_count": 274,
   "id": "ce894e82",
   "metadata": {},
   "outputs": [
    {
     "data": {
      "text/plain": [
       "0.429"
      ]
     },
     "execution_count": 274,
     "metadata": {},
     "output_type": "execute_result"
    }
   ],
   "source": [
    "round(a,3) # 소숫점 3자리까지"
   ]
  },
  {
   "cell_type": "markdown",
   "id": "05036d81",
   "metadata": {},
   "source": [
    "### 숫자값 print 하기 Tip!"
   ]
  },
  {
   "cell_type": "code",
   "execution_count": 275,
   "id": "10e74859",
   "metadata": {},
   "outputs": [],
   "source": [
    "a = 31232/7\n",
    "b = 3/8\n",
    "c = 3/9"
   ]
  },
  {
   "cell_type": "code",
   "execution_count": 276,
   "id": "2b8a4453",
   "metadata": {},
   "outputs": [
    {
     "name": "stdout",
     "output_type": "stream",
     "text": [
      "a의 값은  4461.71 이고 b의 값은  0.375 이다.\n"
     ]
    }
   ],
   "source": [
    "print(\"a의 값은 \", round(a,2) , \"이고 b의 값은 \", round(b,3), \"이다.\") # 흔히 사용하는 구문 -> 매우 불편"
   ]
  },
  {
   "cell_type": "code",
   "execution_count": 277,
   "id": "3c5ba8c7",
   "metadata": {},
   "outputs": [
    {
     "name": "stdout",
     "output_type": "stream",
     "text": [
      "a의 값은 4461.71이고, b는 0.38이고, c는 0.33입니다.\n"
     ]
    }
   ],
   "source": [
    "# 편한 방법(1) -----> 이 방법이 더 많이 편함!\n",
    "print(\"a의 값은 %.2f이고, b는 %.2f이고, c는 %.2f입니다.\"%(a,b,c))\n",
    "# %.2f -> C언어에서 사용했던 Format 형식 지정 -> 소숫점 2자리까지 표현을 의미"
   ]
  },
  {
   "cell_type": "code",
   "execution_count": 278,
   "id": "ab3170ad",
   "metadata": {},
   "outputs": [
    {
     "name": "stdout",
     "output_type": "stream",
     "text": [
      "a의 값은 4461.71이고, b는 0.38 이고, c는 0.333 입니다.\n"
     ]
    }
   ],
   "source": [
    "# 편한 방법(2)\n",
    "print(\"a의 값은 {:.2f}이고, b는 {:.2f} 이고, c는 {:.3f} 입니다.\".format(a,b,c))"
   ]
  },
  {
   "cell_type": "markdown",
   "id": "808d687a",
   "metadata": {},
   "source": [
    "## 실습(2)"
   ]
  },
  {
   "cell_type": "markdown",
   "id": "c2b5770f",
   "metadata": {},
   "source": [
    "### 아래의 변수들을 %.xf 키워드를 사용해서 한줄로 print 하시오!"
   ]
  },
  {
   "cell_type": "code",
   "execution_count": 279,
   "id": "e5417b3f",
   "metadata": {},
   "outputs": [],
   "source": [
    "a1 = 3.14195 # 소숫점 5자리까지 표시\n",
    "a2 = 3.14195 # 소숫점 3자리까지 표시\n",
    "a3 = 3.14195 # 소숫점 2자리까지 표시\n",
    "a4 = 3.14195 # 소숫점 1자리까지 표시\n",
    "a5 = 3.14195 # 정수 표시"
   ]
  },
  {
   "cell_type": "code",
   "execution_count": 280,
   "id": "da782563",
   "metadata": {},
   "outputs": [
    {
     "name": "stdout",
     "output_type": "stream",
     "text": [
      "a1: 3.14195 , a2: 3.142, a3: 3.14, a4: 3.1, a5: 3\n"
     ]
    }
   ],
   "source": [
    "print(\"a1: %.5f , a2: %.3f, a3: %.2f, a4: %.1f, a5: %d\"%(a1,a2,a3,a4,a5))"
   ]
  },
  {
   "cell_type": "markdown",
   "id": "b026bde4",
   "metadata": {},
   "source": [
    "### Math 모듈 다루기"
   ]
  },
  {
   "cell_type": "markdown",
   "id": "dd649a20",
   "metadata": {},
   "source": [
    "#### 모듈?\n",
    "#### 파이썬 코드를 논리적으로 묶어서 관리하고 사용할 수 있도록 하는 것."
   ]
  },
  {
   "cell_type": "code",
   "execution_count": 281,
   "id": "10cc31bf",
   "metadata": {},
   "outputs": [],
   "source": [
    "import math"
   ]
  },
  {
   "cell_type": "code",
   "execution_count": 282,
   "id": "7ae19362",
   "metadata": {},
   "outputs": [
    {
     "data": {
      "text/plain": [
       "3.141592653589793"
      ]
     },
     "execution_count": 282,
     "metadata": {},
     "output_type": "execute_result"
    }
   ],
   "source": [
    "math.pi"
   ]
  },
  {
   "cell_type": "code",
   "execution_count": 283,
   "id": "4b2b0b65",
   "metadata": {},
   "outputs": [
    {
     "data": {
      "text/plain": [
       "2.718281828459045"
      ]
     },
     "execution_count": 283,
     "metadata": {},
     "output_type": "execute_result"
    }
   ],
   "source": [
    "math.e"
   ]
  },
  {
   "cell_type": "markdown",
   "id": "958fef8c",
   "metadata": {},
   "source": [
    "###  Math 모듈 계산 실습"
   ]
  },
  {
   "cell_type": "code",
   "execution_count": 284,
   "id": "5ff84183",
   "metadata": {},
   "outputs": [
    {
     "data": {
      "text/plain": [
       "5.0"
      ]
     },
     "execution_count": 284,
     "metadata": {},
     "output_type": "execute_result"
    }
   ],
   "source": [
    "math.fabs(-5) # 절댓값"
   ]
  },
  {
   "cell_type": "code",
   "execution_count": 285,
   "id": "80ac1741",
   "metadata": {},
   "outputs": [
    {
     "data": {
      "text/plain": [
       "-4"
      ]
     },
     "execution_count": 285,
     "metadata": {},
     "output_type": "execute_result"
    }
   ],
   "source": [
    "math.ceil(-4.12) # 가까운 정수 올림"
   ]
  },
  {
   "cell_type": "code",
   "execution_count": 286,
   "id": "115aa4a7",
   "metadata": {},
   "outputs": [
    {
     "data": {
      "text/plain": [
       "4"
      ]
     },
     "execution_count": 286,
     "metadata": {},
     "output_type": "execute_result"
    }
   ],
   "source": [
    "math.floor(4.1) # 가까운 정수에서 버림"
   ]
  },
  {
   "cell_type": "code",
   "execution_count": 287,
   "id": "e2322826",
   "metadata": {},
   "outputs": [
    {
     "data": {
      "text/plain": [
       "2.718281828459045"
      ]
     },
     "execution_count": 287,
     "metadata": {},
     "output_type": "execute_result"
    }
   ],
   "source": [
    "math.exp(1) # e^1의 값"
   ]
  },
  {
   "cell_type": "code",
   "execution_count": 288,
   "id": "f09f520e",
   "metadata": {},
   "outputs": [
    {
     "data": {
      "text/plain": [
       "0.0"
      ]
     },
     "execution_count": 288,
     "metadata": {},
     "output_type": "execute_result"
    }
   ],
   "source": [
    "math.sin(0) # sin(0)의 값"
   ]
  },
  {
   "cell_type": "code",
   "execution_count": 289,
   "id": "2242146a",
   "metadata": {},
   "outputs": [
    {
     "data": {
      "text/plain": [
       "1.0"
      ]
     },
     "execution_count": 289,
     "metadata": {},
     "output_type": "execute_result"
    }
   ],
   "source": [
    "math.cos(0) # cos(0)의 값"
   ]
  },
  {
   "cell_type": "code",
   "execution_count": 290,
   "id": "e8652496",
   "metadata": {},
   "outputs": [
    {
     "data": {
      "text/plain": [
       "0.0"
      ]
     },
     "execution_count": 290,
     "metadata": {},
     "output_type": "execute_result"
    }
   ],
   "source": [
    "math.tan(0) # tan(0)의 값"
   ]
  },
  {
   "cell_type": "code",
   "execution_count": 291,
   "id": "b2549420",
   "metadata": {},
   "outputs": [
    {
     "data": {
      "text/plain": [
       "2.0"
      ]
     },
     "execution_count": 291,
     "metadata": {},
     "output_type": "execute_result"
    }
   ],
   "source": [
    "math.sqrt(4) # 루트 4의 값"
   ]
  },
  {
   "cell_type": "code",
   "execution_count": 292,
   "id": "e4f2571d",
   "metadata": {},
   "outputs": [
    {
     "data": {
      "text/plain": [
       "2.0"
      ]
     },
     "execution_count": 292,
     "metadata": {},
     "output_type": "execute_result"
    }
   ],
   "source": [
    "math.log(4,2) # log(지수, 밑)"
   ]
  },
  {
   "cell_type": "code",
   "execution_count": 293,
   "id": "47f4e29a",
   "metadata": {},
   "outputs": [
    {
     "data": {
      "text/plain": [
       "1"
      ]
     },
     "execution_count": 293,
     "metadata": {},
     "output_type": "execute_result"
    }
   ],
   "source": [
    "math.factorial(1)"
   ]
  },
  {
   "cell_type": "code",
   "execution_count": 294,
   "id": "b82d750f",
   "metadata": {},
   "outputs": [
    {
     "data": {
      "text/plain": [
       "120"
      ]
     },
     "execution_count": 294,
     "metadata": {},
     "output_type": "execute_result"
    }
   ],
   "source": [
    "math.factorial(5)"
   ]
  },
  {
   "cell_type": "code",
   "execution_count": 295,
   "id": "ff46e9cf",
   "metadata": {},
   "outputs": [
    {
     "data": {
      "text/plain": [
       "3628800"
      ]
     },
     "execution_count": 295,
     "metadata": {},
     "output_type": "execute_result"
    }
   ],
   "source": [
    "math.factorial(10)"
   ]
  },
  {
   "cell_type": "code",
   "execution_count": 296,
   "id": "17dc61dd",
   "metadata": {},
   "outputs": [
    {
     "data": {
      "text/plain": [
       "93326215443944152681699238856266700490715968264381621468592963895217599993229915608941463976156518286253697920827223758251185210916864000000000000000000000000"
      ]
     },
     "execution_count": 296,
     "metadata": {},
     "output_type": "execute_result"
    }
   ],
   "source": [
    "math.factorial(100)"
   ]
  },
  {
   "cell_type": "markdown",
   "id": "013c1c68",
   "metadata": {},
   "source": [
    "# 4. 논리 연산자"
   ]
  },
  {
   "cell_type": "code",
   "execution_count": 297,
   "id": "42bb7467",
   "metadata": {},
   "outputs": [],
   "source": [
    "a = True\n",
    "b = False"
   ]
  },
  {
   "cell_type": "code",
   "execution_count": 298,
   "id": "ed9aed1b",
   "metadata": {},
   "outputs": [
    {
     "data": {
      "text/plain": [
       "(True, False)"
      ]
     },
     "execution_count": 298,
     "metadata": {},
     "output_type": "execute_result"
    }
   ],
   "source": [
    "a,b"
   ]
  },
  {
   "cell_type": "code",
   "execution_count": 299,
   "id": "60365940",
   "metadata": {},
   "outputs": [
    {
     "data": {
      "text/plain": [
       "bool"
      ]
     },
     "execution_count": 299,
     "metadata": {},
     "output_type": "execute_result"
    }
   ],
   "source": [
    "type(a)\n",
    "type(b)"
   ]
  },
  {
   "cell_type": "code",
   "execution_count": 300,
   "id": "a060ef69",
   "metadata": {},
   "outputs": [
    {
     "data": {
      "text/plain": [
       "False"
      ]
     },
     "execution_count": 300,
     "metadata": {},
     "output_type": "execute_result"
    }
   ],
   "source": [
    "a and b"
   ]
  },
  {
   "cell_type": "code",
   "execution_count": 301,
   "id": "0688a95a",
   "metadata": {},
   "outputs": [
    {
     "data": {
      "text/plain": [
       "True"
      ]
     },
     "execution_count": 301,
     "metadata": {},
     "output_type": "execute_result"
    }
   ],
   "source": [
    "a or b"
   ]
  },
  {
   "cell_type": "code",
   "execution_count": 302,
   "id": "38d305b9",
   "metadata": {},
   "outputs": [
    {
     "data": {
      "text/plain": [
       "False"
      ]
     },
     "execution_count": 302,
     "metadata": {},
     "output_type": "execute_result"
    }
   ],
   "source": [
    "not(a)"
   ]
  },
  {
   "cell_type": "code",
   "execution_count": 303,
   "id": "79f1672c",
   "metadata": {},
   "outputs": [
    {
     "data": {
      "text/plain": [
       "True"
      ]
     },
     "execution_count": 303,
     "metadata": {},
     "output_type": "execute_result"
    }
   ],
   "source": [
    "not(b)"
   ]
  },
  {
   "cell_type": "markdown",
   "id": "f27ebe83",
   "metadata": {},
   "source": [
    "# 5. 텍스트 다루기"
   ]
  },
  {
   "cell_type": "code",
   "execution_count": 304,
   "id": "47ccb851",
   "metadata": {},
   "outputs": [],
   "source": [
    "a = \"Hello World\""
   ]
  },
  {
   "cell_type": "code",
   "execution_count": 305,
   "id": "a1df1079",
   "metadata": {},
   "outputs": [
    {
     "data": {
      "text/plain": [
       "'H'"
      ]
     },
     "execution_count": 305,
     "metadata": {},
     "output_type": "execute_result"
    }
   ],
   "source": [
    "a[0]"
   ]
  },
  {
   "cell_type": "code",
   "execution_count": 306,
   "id": "9556d6a8",
   "metadata": {},
   "outputs": [
    {
     "data": {
      "text/plain": [
       "'e'"
      ]
     },
     "execution_count": 306,
     "metadata": {},
     "output_type": "execute_result"
    }
   ],
   "source": [
    "a[1]"
   ]
  },
  {
   "cell_type": "code",
   "execution_count": 307,
   "id": "d93edbde",
   "metadata": {},
   "outputs": [
    {
     "data": {
      "text/plain": [
       "' '"
      ]
     },
     "execution_count": 307,
     "metadata": {},
     "output_type": "execute_result"
    }
   ],
   "source": [
    "a[5] # 띄어쓰기도 하나의 문자로 생각함"
   ]
  },
  {
   "cell_type": "code",
   "execution_count": 308,
   "id": "5c225742",
   "metadata": {},
   "outputs": [
    {
     "data": {
      "text/plain": [
       "'d'"
      ]
     },
     "execution_count": 308,
     "metadata": {},
     "output_type": "execute_result"
    }
   ],
   "source": [
    "a[10]"
   ]
  },
  {
   "cell_type": "markdown",
   "id": "82dc5a65",
   "metadata": {},
   "source": [
    "##### a[11]의 경우는 범위 밖의 인덱스 이므로 에러 발생!"
   ]
  },
  {
   "cell_type": "markdown",
   "id": "133bb937",
   "metadata": {},
   "source": [
    "### 문자열 합치기도 가능"
   ]
  },
  {
   "cell_type": "code",
   "execution_count": 309,
   "id": "e60f2b60",
   "metadata": {},
   "outputs": [],
   "source": [
    "a = \"삼성\" + \"전자\""
   ]
  },
  {
   "cell_type": "code",
   "execution_count": 310,
   "id": "34784612",
   "metadata": {},
   "outputs": [
    {
     "data": {
      "text/plain": [
       "'삼성전'"
      ]
     },
     "execution_count": 310,
     "metadata": {},
     "output_type": "execute_result"
    }
   ],
   "source": [
    "a[0:3] # ----> Slicing(슬라이싱)"
   ]
  },
  {
   "cell_type": "code",
   "execution_count": 311,
   "id": "ffb2a255",
   "metadata": {},
   "outputs": [
    {
     "data": {
      "text/plain": [
       "'삼성'"
      ]
     },
     "execution_count": 311,
     "metadata": {},
     "output_type": "execute_result"
    }
   ],
   "source": [
    "a[:2] # 처음부터 인덱스 2까지"
   ]
  },
  {
   "cell_type": "code",
   "execution_count": 312,
   "id": "c40442b8",
   "metadata": {},
   "outputs": [
    {
     "data": {
      "text/plain": [
       "'전자'"
      ]
     },
     "execution_count": 312,
     "metadata": {},
     "output_type": "execute_result"
    }
   ],
   "source": [
    "a[2:] # 2부터 인덱스 끝까지"
   ]
  },
  {
   "cell_type": "markdown",
   "id": "2c26d2b2",
   "metadata": {},
   "source": [
    "### 문자열이 있는지 확인하는 방법?"
   ]
  },
  {
   "cell_type": "code",
   "execution_count": 313,
   "id": "33e5ad86",
   "metadata": {},
   "outputs": [
    {
     "data": {
      "text/plain": [
       "True"
      ]
     },
     "execution_count": 313,
     "metadata": {},
     "output_type": "execute_result"
    }
   ],
   "source": [
    "\"삼성\" in a"
   ]
  },
  {
   "cell_type": "code",
   "execution_count": 314,
   "id": "7e4f701c",
   "metadata": {},
   "outputs": [
    {
     "data": {
      "text/plain": [
       "False"
      ]
     },
     "execution_count": 314,
     "metadata": {},
     "output_type": "execute_result"
    }
   ],
   "source": [
    "\"성화\" in a"
   ]
  },
  {
   "cell_type": "markdown",
   "id": "64326893",
   "metadata": {},
   "source": [
    "### 문자열의 길이는 어떻게 확인할까?"
   ]
  },
  {
   "cell_type": "code",
   "execution_count": 315,
   "id": "45f6148b",
   "metadata": {},
   "outputs": [],
   "source": [
    "a = \"hello world\""
   ]
  },
  {
   "cell_type": "code",
   "execution_count": 316,
   "id": "f22b0d5b",
   "metadata": {},
   "outputs": [
    {
     "data": {
      "text/plain": [
       "11"
      ]
     },
     "execution_count": 316,
     "metadata": {},
     "output_type": "execute_result"
    }
   ],
   "source": [
    "len(a)"
   ]
  },
  {
   "cell_type": "markdown",
   "id": "b1319dc3",
   "metadata": {},
   "source": [
    "### 반복 출력도 가능하다!"
   ]
  },
  {
   "cell_type": "code",
   "execution_count": 317,
   "id": "b7102c29",
   "metadata": {},
   "outputs": [],
   "source": [
    "b = a*3"
   ]
  },
  {
   "cell_type": "code",
   "execution_count": 318,
   "id": "6c5b9616",
   "metadata": {},
   "outputs": [
    {
     "data": {
      "text/plain": [
       "33"
      ]
     },
     "execution_count": 318,
     "metadata": {},
     "output_type": "execute_result"
    }
   ],
   "source": [
    "len(b)"
   ]
  },
  {
   "cell_type": "markdown",
   "id": "ba39a809",
   "metadata": {},
   "source": [
    "### 인덱싱의 추가 부분"
   ]
  },
  {
   "cell_type": "code",
   "execution_count": 319,
   "id": "3743c940",
   "metadata": {},
   "outputs": [],
   "source": [
    "a = \"삼성\" + \"전자\""
   ]
  },
  {
   "cell_type": "code",
   "execution_count": 320,
   "id": "b8ca30f3",
   "metadata": {},
   "outputs": [
    {
     "data": {
      "text/plain": [
       "'자'"
      ]
     },
     "execution_count": 320,
     "metadata": {},
     "output_type": "execute_result"
    }
   ],
   "source": [
    "a[-1] # 마이너스는 뒤에서부터 인덱싱함!"
   ]
  },
  {
   "cell_type": "markdown",
   "id": "4494ee3f",
   "metadata": {},
   "source": [
    "### 문자열을 구분자를 사용해서 출력하기"
   ]
  },
  {
   "cell_type": "code",
   "execution_count": 321,
   "id": "36a1bd3a",
   "metadata": {},
   "outputs": [
    {
     "name": "stdout",
     "output_type": "stream",
     "text": [
      "삼성 전자\n"
     ]
    }
   ],
   "source": [
    "print(\"삼성\",\"전자\")"
   ]
  },
  {
   "cell_type": "code",
   "execution_count": 322,
   "id": "753f4270",
   "metadata": {},
   "outputs": [
    {
     "name": "stdout",
     "output_type": "stream",
     "text": [
      "삼성,전자\n"
     ]
    }
   ],
   "source": [
    "print(\"삼성\", \"전자\", sep=',') # sep의 default는 띄어쓰기임"
   ]
  },
  {
   "cell_type": "code",
   "execution_count": 323,
   "id": "c06dddce",
   "metadata": {},
   "outputs": [
    {
     "name": "stdout",
     "output_type": "stream",
     "text": [
      "삼성>>>전자\n"
     ]
    }
   ],
   "source": [
    "print(\"삼성\", \"전자\", sep='>>>')"
   ]
  },
  {
   "cell_type": "markdown",
   "id": "17ab6929",
   "metadata": {},
   "source": [
    "### 텍스트 입력(Input) 받아서 출력(Output)하기"
   ]
  },
  {
   "cell_type": "code",
   "execution_count": 378,
   "id": "4df7b9d8",
   "metadata": {},
   "outputs": [
    {
     "name": "stdout",
     "output_type": "stream",
     "text": [
      "너의 이름은?주찬영\n"
     ]
    }
   ],
   "source": [
    "a = input(\"너의 이름은?\")"
   ]
  },
  {
   "cell_type": "code",
   "execution_count": 379,
   "id": "4a85bfa4",
   "metadata": {},
   "outputs": [
    {
     "data": {
      "text/plain": [
       "'주찬영'"
      ]
     },
     "execution_count": 379,
     "metadata": {},
     "output_type": "execute_result"
    }
   ],
   "source": [
    "a"
   ]
  },
  {
   "cell_type": "code",
   "execution_count": 380,
   "id": "3ae70186",
   "metadata": {},
   "outputs": [
    {
     "data": {
      "text/plain": [
       "str"
      ]
     },
     "execution_count": 380,
     "metadata": {},
     "output_type": "execute_result"
    }
   ],
   "source": [
    "type(a) # input 함수의 데이터 타입은 기본적으로 문자열임"
   ]
  },
  {
   "cell_type": "code",
   "execution_count": 381,
   "id": "703ccb4a",
   "metadata": {},
   "outputs": [
    {
     "name": "stdout",
     "output_type": "stream",
     "text": [
      "당신의 키는?173\n"
     ]
    }
   ],
   "source": [
    "b = input(\"당신의 키는?\")"
   ]
  },
  {
   "cell_type": "code",
   "execution_count": 382,
   "id": "2cb324ee",
   "metadata": {},
   "outputs": [
    {
     "data": {
      "text/plain": [
       "'173'"
      ]
     },
     "execution_count": 382,
     "metadata": {},
     "output_type": "execute_result"
    }
   ],
   "source": [
    "b"
   ]
  },
  {
   "cell_type": "code",
   "execution_count": 383,
   "id": "bf92cc07",
   "metadata": {},
   "outputs": [
    {
     "data": {
      "text/plain": [
       "str"
      ]
     },
     "execution_count": 383,
     "metadata": {},
     "output_type": "execute_result"
    }
   ],
   "source": [
    "type(b) # input 함수의 데이터 타입은 기본적으로 문자열임"
   ]
  },
  {
   "cell_type": "code",
   "execution_count": 384,
   "id": "a70349f2",
   "metadata": {},
   "outputs": [],
   "source": [
    "b = float(b) # 형변환도 가능함을 의미"
   ]
  },
  {
   "cell_type": "code",
   "execution_count": 385,
   "id": "5ce13093",
   "metadata": {},
   "outputs": [
    {
     "data": {
      "text/plain": [
       "float"
      ]
     },
     "execution_count": 385,
     "metadata": {},
     "output_type": "execute_result"
    }
   ],
   "source": [
    "type(b)"
   ]
  },
  {
   "cell_type": "code",
   "execution_count": 386,
   "id": "7bcb1820",
   "metadata": {},
   "outputs": [
    {
     "name": "stdout",
     "output_type": "stream",
     "text": [
      "당신의 이름은 주찬영 이고, 당신의 키는 173.0 입니다.\n"
     ]
    }
   ],
   "source": [
    "print(\"당신의 이름은 %s 이고, 당신의 키는 %.1f 입니다.\"%(a,float(b)))"
   ]
  },
  {
   "cell_type": "markdown",
   "id": "1c686d38",
   "metadata": {},
   "source": [
    "## 실습(3)"
   ]
  },
  {
   "cell_type": "markdown",
   "id": "1d21a59e",
   "metadata": {},
   "source": [
    "### 자신의 이름과 소속, 핸드폰 번호를 입력 받아 출력합니다."
   ]
  },
  {
   "cell_type": "markdown",
   "id": "e0e2ce53",
   "metadata": {},
   "source": [
    "### 단, 핸드폰 번호는 모두 입력 받고, 앞 7자리만 출력하고 뒤의 4자리는 *로 표시"
   ]
  },
  {
   "cell_type": "code",
   "execution_count": 387,
   "id": "7da8bee5",
   "metadata": {},
   "outputs": [
    {
     "name": "stdout",
     "output_type": "stream",
     "text": [
      "너의 이름은?주찬영\n"
     ]
    }
   ],
   "source": [
    "name = input(\"너의 이름은?\")"
   ]
  },
  {
   "cell_type": "code",
   "execution_count": 388,
   "id": "0a568ab6",
   "metadata": {},
   "outputs": [
    {
     "name": "stdout",
     "output_type": "stream",
     "text": [
      "너의 소속은?소프트웨어전공\n"
     ]
    }
   ],
   "source": [
    "depart = input(\"너의 소속은?\")"
   ]
  },
  {
   "cell_type": "code",
   "execution_count": 389,
   "id": "845db906",
   "metadata": {},
   "outputs": [
    {
     "name": "stdout",
     "output_type": "stream",
     "text": [
      "너의 번호는?010-5296-0623\n"
     ]
    }
   ],
   "source": [
    "phone = input('너의 번호는?')"
   ]
  },
  {
   "cell_type": "code",
   "execution_count": 392,
   "id": "500388f9",
   "metadata": {},
   "outputs": [
    {
     "name": "stdout",
     "output_type": "stream",
     "text": [
      "당신의 이름은 주찬영 이고, 소프트웨어전공 에 속하고, 당신의 번호는 010-5296-****입니다.\n"
     ]
    }
   ],
   "source": [
    "print(\"당신의 이름은 %s 이고, %s 에 속하고, 당신의 번호는 %s-****입니다.\"%(name,depart,phone[:8]))"
   ]
  },
  {
   "cell_type": "markdown",
   "id": "894faf99",
   "metadata": {},
   "source": [
    "# 6. 문자열 다루기"
   ]
  },
  {
   "cell_type": "code",
   "execution_count": 393,
   "id": "a3fe09ce",
   "metadata": {},
   "outputs": [],
   "source": [
    "a = \"Hello world\""
   ]
  },
  {
   "cell_type": "markdown",
   "id": "5091f683",
   "metadata": {},
   "source": [
    "### 6.1 startswith( ) Method"
   ]
  },
  {
   "cell_type": "code",
   "execution_count": 394,
   "id": "b20de995",
   "metadata": {},
   "outputs": [
    {
     "data": {
      "text/plain": [
       "True"
      ]
     },
     "execution_count": 394,
     "metadata": {},
     "output_type": "execute_result"
    }
   ],
   "source": [
    "a.startswith(\"He\")"
   ]
  },
  {
   "cell_type": "code",
   "execution_count": 395,
   "id": "83833329",
   "metadata": {},
   "outputs": [
    {
     "data": {
      "text/plain": [
       "False"
      ]
     },
     "execution_count": 395,
     "metadata": {},
     "output_type": "execute_result"
    }
   ],
   "source": [
    "a.startswith(\"IO\")"
   ]
  },
  {
   "cell_type": "markdown",
   "id": "5e447401",
   "metadata": {},
   "source": [
    "### 6.2 endswith( ) Method"
   ]
  },
  {
   "cell_type": "code",
   "execution_count": 396,
   "id": "41a47fb1",
   "metadata": {},
   "outputs": [
    {
     "data": {
      "text/plain": [
       "False"
      ]
     },
     "execution_count": 396,
     "metadata": {},
     "output_type": "execute_result"
    }
   ],
   "source": [
    "a.endswith(\"He\")"
   ]
  },
  {
   "cell_type": "code",
   "execution_count": 397,
   "id": "e625adae",
   "metadata": {},
   "outputs": [
    {
     "data": {
      "text/plain": [
       "True"
      ]
     },
     "execution_count": 397,
     "metadata": {},
     "output_type": "execute_result"
    }
   ],
   "source": [
    "a.endswith(\"ld\")"
   ]
  },
  {
   "cell_type": "code",
   "execution_count": 398,
   "id": "a4bef7a6",
   "metadata": {},
   "outputs": [],
   "source": [
    "b = \"Hello world \""
   ]
  },
  {
   "cell_type": "code",
   "execution_count": 399,
   "id": "5f1e33ee",
   "metadata": {},
   "outputs": [
    {
     "data": {
      "text/plain": [
       "True"
      ]
     },
     "execution_count": 399,
     "metadata": {},
     "output_type": "execute_result"
    }
   ],
   "source": [
    "b.endswith(' ')"
   ]
  },
  {
   "cell_type": "code",
   "execution_count": 400,
   "id": "a2f2dbf2",
   "metadata": {},
   "outputs": [
    {
     "data": {
      "text/plain": [
       "False"
      ]
     },
     "execution_count": 400,
     "metadata": {},
     "output_type": "execute_result"
    }
   ],
   "source": [
    "b.endswith('d')"
   ]
  },
  {
   "cell_type": "markdown",
   "id": "583e3a18",
   "metadata": {},
   "source": [
    "### 6.3 find( ) Method"
   ]
  },
  {
   "cell_type": "code",
   "execution_count": 401,
   "id": "dee67d7f",
   "metadata": {},
   "outputs": [
    {
     "data": {
      "text/plain": [
       "5"
      ]
     },
     "execution_count": 401,
     "metadata": {},
     "output_type": "execute_result"
    }
   ],
   "source": [
    "a.find(' ') # 해당 문자 위치의 인덱스를 출력함"
   ]
  },
  {
   "cell_type": "code",
   "execution_count": 402,
   "id": "0268f18d",
   "metadata": {},
   "outputs": [
    {
     "data": {
      "text/plain": [
       "-1"
      ]
     },
     "execution_count": 402,
     "metadata": {},
     "output_type": "execute_result"
    }
   ],
   "source": [
    "a.find('+') # 해당 문자가 없으면 -1을 출력"
   ]
  },
  {
   "cell_type": "markdown",
   "id": "6fd2895b",
   "metadata": {},
   "source": [
    "### 6.4 rfind( ) Method"
   ]
  },
  {
   "cell_type": "code",
   "execution_count": 403,
   "id": "eb6062fc",
   "metadata": {},
   "outputs": [
    {
     "data": {
      "text/plain": [
       "0"
      ]
     },
     "execution_count": 403,
     "metadata": {},
     "output_type": "execute_result"
    }
   ],
   "source": [
    "a.rfind('H')"
   ]
  },
  {
   "cell_type": "code",
   "execution_count": 404,
   "id": "44ce54d9",
   "metadata": {},
   "outputs": [
    {
     "data": {
      "text/plain": [
       "6"
      ]
     },
     "execution_count": 404,
     "metadata": {},
     "output_type": "execute_result"
    }
   ],
   "source": [
    "a.rfind('w')"
   ]
  },
  {
   "cell_type": "markdown",
   "id": "a4608d29",
   "metadata": {},
   "source": [
    "### 6.5 count( ) Method"
   ]
  },
  {
   "cell_type": "code",
   "execution_count": 405,
   "id": "1923e7a7",
   "metadata": {},
   "outputs": [
    {
     "data": {
      "text/plain": [
       "1"
      ]
     },
     "execution_count": 405,
     "metadata": {},
     "output_type": "execute_result"
    }
   ],
   "source": [
    "a.count(' ') # 해당 문자의 개수를 출력"
   ]
  },
  {
   "cell_type": "code",
   "execution_count": 406,
   "id": "e48f6e44",
   "metadata": {},
   "outputs": [
    {
     "data": {
      "text/plain": [
       "3"
      ]
     },
     "execution_count": 406,
     "metadata": {},
     "output_type": "execute_result"
    }
   ],
   "source": [
    "a.count('l') # 해당 문자의 개수를 출력"
   ]
  },
  {
   "cell_type": "markdown",
   "id": "675d62d3",
   "metadata": {},
   "source": [
    "### 6.6 lstrip( ) Method"
   ]
  },
  {
   "cell_type": "code",
   "execution_count": 407,
   "id": "877755fb",
   "metadata": {},
   "outputs": [],
   "source": [
    "c = \"    LeftStrip!\""
   ]
  },
  {
   "cell_type": "code",
   "execution_count": 408,
   "id": "692c1f2b",
   "metadata": {},
   "outputs": [
    {
     "data": {
      "text/plain": [
       "'LeftStrip!'"
      ]
     },
     "execution_count": 408,
     "metadata": {},
     "output_type": "execute_result"
    }
   ],
   "source": [
    "c.lstrip()  # 왼쪽의 공백을 제거"
   ]
  },
  {
   "cell_type": "markdown",
   "id": "9506d794",
   "metadata": {},
   "source": [
    "### 6.7 rstrip( ) Method"
   ]
  },
  {
   "cell_type": "code",
   "execution_count": 409,
   "id": "d3865fd5",
   "metadata": {},
   "outputs": [],
   "source": [
    "d = \"Right Strip       \""
   ]
  },
  {
   "cell_type": "code",
   "execution_count": 410,
   "id": "4edaeccb",
   "metadata": {},
   "outputs": [
    {
     "data": {
      "text/plain": [
       "'Right Strip'"
      ]
     },
     "execution_count": 410,
     "metadata": {},
     "output_type": "execute_result"
    }
   ],
   "source": [
    "d.rstrip() # 오른쪽의 공백을 제거"
   ]
  },
  {
   "cell_type": "markdown",
   "id": "23391986",
   "metadata": {},
   "source": [
    "### 6.8 strip( ) Method"
   ]
  },
  {
   "cell_type": "code",
   "execution_count": 411,
   "id": "b52d3b50",
   "metadata": {},
   "outputs": [],
   "source": [
    "h = \"      Strip       \""
   ]
  },
  {
   "cell_type": "code",
   "execution_count": 412,
   "id": "76ceb1dd",
   "metadata": {},
   "outputs": [
    {
     "data": {
      "text/plain": [
       "'Strip'"
      ]
     },
     "execution_count": 412,
     "metadata": {},
     "output_type": "execute_result"
    }
   ],
   "source": [
    "h.strip() # 양쪽의 공백을 제거"
   ]
  },
  {
   "cell_type": "markdown",
   "id": "814e72b6",
   "metadata": {},
   "source": [
    "### 6.9 isalpha( ) Method"
   ]
  },
  {
   "cell_type": "code",
   "execution_count": 413,
   "id": "d7ea0172",
   "metadata": {},
   "outputs": [],
   "source": [
    "a = 'hello world'"
   ]
  },
  {
   "cell_type": "code",
   "execution_count": 414,
   "id": "51a0bf95",
   "metadata": {},
   "outputs": [
    {
     "data": {
      "text/plain": [
       "False"
      ]
     },
     "execution_count": 414,
     "metadata": {},
     "output_type": "execute_result"
    }
   ],
   "source": [
    "a.isalpha() # 공백도 인식하기 때문에 False가 출력"
   ]
  },
  {
   "cell_type": "markdown",
   "id": "b5193631",
   "metadata": {},
   "source": [
    "### 6.10 isnumeric( ) Method"
   ]
  },
  {
   "cell_type": "code",
   "execution_count": 415,
   "id": "f11d3664",
   "metadata": {},
   "outputs": [],
   "source": [
    "a = '12345678'"
   ]
  },
  {
   "cell_type": "code",
   "execution_count": 416,
   "id": "c557bd6d",
   "metadata": {},
   "outputs": [
    {
     "data": {
      "text/plain": [
       "True"
      ]
     },
     "execution_count": 416,
     "metadata": {},
     "output_type": "execute_result"
    }
   ],
   "source": [
    "a.isnumeric() # 숫자로만 이루어져 있는지를 확인"
   ]
  },
  {
   "cell_type": "markdown",
   "id": "5b322354",
   "metadata": {},
   "source": [
    "### 6.11 isalnum( ) Method"
   ]
  },
  {
   "cell_type": "code",
   "execution_count": 417,
   "id": "82a298d6",
   "metadata": {},
   "outputs": [],
   "source": [
    "a = '123456abcde'"
   ]
  },
  {
   "cell_type": "code",
   "execution_count": 418,
   "id": "7ac20036",
   "metadata": {},
   "outputs": [
    {
     "data": {
      "text/plain": [
       "True"
      ]
     },
     "execution_count": 418,
     "metadata": {},
     "output_type": "execute_result"
    }
   ],
   "source": [
    "a.isalnum() # 숫자와 알파벳으로만 이루어져 있는지를 확인"
   ]
  },
  {
   "cell_type": "markdown",
   "id": "1ce99c64",
   "metadata": {},
   "source": [
    "### 6.12 replace( ) Method"
   ]
  },
  {
   "cell_type": "code",
   "execution_count": 419,
   "id": "49f26d9b",
   "metadata": {},
   "outputs": [],
   "source": [
    "a = 'hello world'"
   ]
  },
  {
   "cell_type": "code",
   "execution_count": 420,
   "id": "44e36a63",
   "metadata": {},
   "outputs": [
    {
     "data": {
      "text/plain": [
       "'hello,world'"
      ]
     },
     "execution_count": 420,
     "metadata": {},
     "output_type": "execute_result"
    }
   ],
   "source": [
    "a.replace(' ', ',') # replace(a, b) -> a를 b로 변경한다!"
   ]
  },
  {
   "cell_type": "markdown",
   "id": "8157e9ba",
   "metadata": {},
   "source": [
    "### 6.13 split( ) Method"
   ]
  },
  {
   "cell_type": "code",
   "execution_count": 421,
   "id": "dc01db6b",
   "metadata": {},
   "outputs": [],
   "source": [
    "a = 'hello world'"
   ]
  },
  {
   "cell_type": "code",
   "execution_count": 422,
   "id": "0910c146",
   "metadata": {},
   "outputs": [
    {
     "data": {
      "text/plain": [
       "['hello', 'world']"
      ]
     },
     "execution_count": 422,
     "metadata": {},
     "output_type": "execute_result"
    }
   ],
   "source": [
    "a.split(' ') # 공백을 기준으로 나누겠다!"
   ]
  },
  {
   "cell_type": "code",
   "execution_count": 423,
   "id": "d44d6d08",
   "metadata": {},
   "outputs": [],
   "source": [
    "a = 'hello Python World'"
   ]
  },
  {
   "cell_type": "code",
   "execution_count": 424,
   "id": "f24ce540",
   "metadata": {},
   "outputs": [],
   "source": [
    "b = a.split(' ') # 공백을 기준으로 나누겠다!"
   ]
  },
  {
   "cell_type": "code",
   "execution_count": 425,
   "id": "52a7b897",
   "metadata": {},
   "outputs": [
    {
     "data": {
      "text/plain": [
       "list"
      ]
     },
     "execution_count": 425,
     "metadata": {},
     "output_type": "execute_result"
    }
   ],
   "source": [
    "type(b) # 기준으로 나눈 문자들은 List 형태로 저장이 됨을 알고 있을 것."
   ]
  },
  {
   "cell_type": "markdown",
   "id": "df307fc2",
   "metadata": {},
   "source": [
    "### 6.14 upper( ) Method"
   ]
  },
  {
   "cell_type": "code",
   "execution_count": 426,
   "id": "1fc9d60f",
   "metadata": {},
   "outputs": [],
   "source": [
    "a = 'lower case'"
   ]
  },
  {
   "cell_type": "code",
   "execution_count": 427,
   "id": "5fb181ce",
   "metadata": {},
   "outputs": [
    {
     "data": {
      "text/plain": [
       "'LOWER CASE'"
      ]
     },
     "execution_count": 427,
     "metadata": {},
     "output_type": "execute_result"
    }
   ],
   "source": [
    "a.upper() # 해당 문자열을 모두 대문자로 변경함"
   ]
  },
  {
   "cell_type": "markdown",
   "id": "994a95e0",
   "metadata": {},
   "source": [
    "### 6.15 lower( ) Method"
   ]
  },
  {
   "cell_type": "code",
   "execution_count": 428,
   "id": "082e8aaf",
   "metadata": {},
   "outputs": [],
   "source": [
    "a = 'UPPER CASE'"
   ]
  },
  {
   "cell_type": "code",
   "execution_count": 429,
   "id": "511eadd8",
   "metadata": {},
   "outputs": [
    {
     "data": {
      "text/plain": [
       "'upper case'"
      ]
     },
     "execution_count": 429,
     "metadata": {},
     "output_type": "execute_result"
    }
   ],
   "source": [
    "a.lower() # 해당 문자열을 모두 소문자로 변경함"
   ]
  },
  {
   "cell_type": "markdown",
   "id": "daf80c40",
   "metadata": {},
   "source": [
    "### 6.16 format( ) Method"
   ]
  },
  {
   "cell_type": "code",
   "execution_count": 430,
   "id": "88eb359b",
   "metadata": {},
   "outputs": [],
   "source": [
    "a = 'My name is {name}. I am {age} years old'"
   ]
  },
  {
   "cell_type": "code",
   "execution_count": 431,
   "id": "455d4ca0",
   "metadata": {},
   "outputs": [
    {
     "data": {
      "text/plain": [
       "'My name is 주찬영. I am 21 years old'"
      ]
     },
     "execution_count": 431,
     "metadata": {},
     "output_type": "execute_result"
    }
   ],
   "source": [
    "a.format(name=\"주찬영\", age=21) # print() 함수에서 format을 지정해주는것과 동일함"
   ]
  }
 ],
 "metadata": {
  "kernelspec": {
   "display_name": "Python 3 (ipykernel)",
   "language": "python",
   "name": "python3"
  },
  "language_info": {
   "codemirror_mode": {
    "name": "ipython",
    "version": 3
   },
   "file_extension": ".py",
   "mimetype": "text/x-python",
   "name": "python",
   "nbconvert_exporter": "python",
   "pygments_lexer": "ipython3",
   "version": "3.8.10"
  }
 },
 "nbformat": 4,
 "nbformat_minor": 5
}
